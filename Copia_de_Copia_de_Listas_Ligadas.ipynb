{
  "nbformat": 4,
  "nbformat_minor": 0,
  "metadata": {
    "colab": {
      "provenance": [],
      "toc_visible": true,
      "include_colab_link": true
    },
    "kernelspec": {
      "name": "python3",
      "display_name": "Python 3"
    },
    "language_info": {
      "name": "python"
    }
  },
  "cells": [
    {
      "cell_type": "markdown",
      "metadata": {
        "id": "view-in-github",
        "colab_type": "text"
      },
      "source": [
        "<a href=\"https://colab.research.google.com/github/Cde571/Colas/blob/main/Copia_de_Copia_de_Listas_Ligadas.ipynb\" target=\"_parent\"><img src=\"https://colab.research.google.com/assets/colab-badge.svg\" alt=\"Open In Colab\"/></a>"
      ]
    },
    {
      "cell_type": "markdown",
      "source": [
        "CRISTIAN DAVID ECHEVERRY GONZALEZ LABORATORI 1\n",
        "\n",
        "LOGICA Y REPRESENTACION\n",
        "DIANA MARGOT **texto en negrita**\n",
        "\n",
        "```\n",
        "# Tiene formato de código\n",
        "```\n",
        "\n"
      ],
      "metadata": {
        "id": "1mQvUW05stLb"
      }
    },
    {
      "cell_type": "markdown",
      "source": [
        "# Listas simplemente Ligadas\n"
      ],
      "metadata": {
        "id": "vFD129aZHUUP"
      }
    },
    {
      "cell_type": "markdown",
      "source": [
        "Creación de la Lista\n",
        "**¿Cómo se define un TAD polinomio?**\n",
        "\n",
        "Un polinomio viene definido por una sumatoria de términos y exponentes de la siguiente manera:\n",
        "Sumatoria de Ci Xexp ei\n",
        "donde ei debe ser diferente de 0\n",
        "y el grado del polinómio es el mayor ei\n",
        "# 4*X* 2 + 2*X -1\n",
        "\n",
        "c=[4,2,1]\n",
        "e=[2,1,-1]\n",
        "\n",
        "**TAD**  *Polynom*\n",
        "\n"
      ],
      "metadata": {
        "id": "9kqGl0CCHwwr"
      }
    },
    {
      "cell_type": "code",
      "source": [
        "from IPython.display import Math\n",
        "import numpy as np\n",
        "import numbers\n",
        "\n",
        "class Pol:\n",
        "\n",
        "    def __init__(self, elements=[]):\n",
        "        self.elements = list(elements)\n",
        "\n",
        "    def isEmpty(self):\n",
        "        return len(self.elements)==0\n",
        "\n",
        "    def add_term(self, coef, exp):\n",
        "        assert (isinstance(coef, numbers.Real) or isinstance(coef,numbers.Integral)) and isinstance(exp, numbers.Integral), \\\n",
        "                \"coef/exp must be float/int\"\n",
        "        self.elements.append((coef,exp))\n",
        "        return self\n",
        "\n",
        "    def sum(self, q):\n",
        "        r = self.__class__()\n",
        "        for c,e in self.elements+q.elements:\n",
        "            r.add_term(c,e)\n",
        "        return r\n",
        "\n",
        "    def show(self):\n",
        "        s = \"+\".join([\"%s^{%s}\"%(str(c) if e==0 else str(c)+\"x\" if c!=1 else \"x\", str(e) if e not in [0,1] else \"\") for c,e in self.elements if c!=0])\n",
        "        s = s.replace(\"+-\", \"-\")\n",
        "        return Math(s)\n",
        "\n"
      ],
      "metadata": {
        "id": "6xAkS7qhH2yq"
      },
      "execution_count": null,
      "outputs": []
    },
    {
      "cell_type": "markdown",
      "source": [
        "Una vez definidas las funciones, miremos algunas operaciones.\n"
      ],
      "metadata": {
        "id": "PKuVOpDoLPQu"
      }
    },
    {
      "cell_type": "code",
      "source": [
        "p = Pol().add_term(3,5).add_term(4,2).add_term(3,0).add_term(5,10)\n",
        "print(p.elements)\n",
        "p.show()"
      ],
      "metadata": {
        "colab": {
          "base_uri": "https://localhost:8080/",
          "height": 56
        },
        "id": "Gh7w5H-SLUYD",
        "outputId": "5834bb14-dd60-4102-9c5c-a7559618e7c9"
      },
      "execution_count": null,
      "outputs": [
        {
          "output_type": "stream",
          "name": "stdout",
          "text": [
            "[(3, 5), (4, 2), (3, 0), (5, 10)]\n"
          ]
        },
        {
          "output_type": "execute_result",
          "data": {
            "text/plain": [
              "<IPython.core.display.Math object>"
            ],
            "text/latex": "$\\displaystyle 3x^{5}+4x^{2}+3^{}+5x^{10}$"
          },
          "metadata": {},
          "execution_count": 2
        }
      ]
    },
    {
      "cell_type": "code",
      "source": [
        "\n",
        "s1 = Pol().add_term(3, 5).add_term(4, 2)\n",
        "print(s1.elements)\n",
        "s1.show()\n",
        "\n",
        "s2 = Pol().add_term(-8, 5).add_term(4, 2)\n",
        "print(s2.elements)\n",
        "s2.show()\n",
        "\n",
        "s3 = s1.sum(s2)  # Llamar al método sum en s1\n",
        "s3.show()\n",
        "\n"
      ],
      "metadata": {
        "id": "xgtWO22ZfFhN",
        "colab": {
          "base_uri": "https://localhost:8080/",
          "height": 73
        },
        "outputId": "80f7690b-4a75-4b6d-fc4e-ed3344a5bedc"
      },
      "execution_count": null,
      "outputs": [
        {
          "output_type": "stream",
          "name": "stdout",
          "text": [
            "[(3, 5), (4, 2)]\n",
            "[(-8, 5), (4, 2)]\n"
          ]
        },
        {
          "output_type": "execute_result",
          "data": {
            "text/plain": [
              "<IPython.core.display.Math object>"
            ],
            "text/latex": "$\\displaystyle 3x^{5}+4x^{2}-8x^{5}+4x^{2}$"
          },
          "metadata": {},
          "execution_count": 6
        }
      ]
    },
    {
      "cell_type": "code",
      "source": [
        "p1 = Pol().add_term(3,1).add_term(4,0)\n",
        "print(p1.elements)\n",
        "p1.show()"
      ],
      "metadata": {
        "colab": {
          "base_uri": "https://localhost:8080/",
          "height": 56
        },
        "id": "uoUNlvwjeMio",
        "outputId": "967d516d-3a96-4035-b8a8-ee429c26372d"
      },
      "execution_count": null,
      "outputs": [
        {
          "output_type": "stream",
          "name": "stdout",
          "text": [
            "[(3, 1), (4, 0)]\n"
          ]
        },
        {
          "output_type": "execute_result",
          "data": {
            "text/plain": [
              "<IPython.core.display.Math object>"
            ],
            "text/latex": "$\\displaystyle 3x^{}+4^{}$"
          },
          "metadata": {},
          "execution_count": 3
        }
      ]
    },
    {
      "cell_type": "markdown",
      "source": [
        "Tarea:\n",
        "1. Verificar que entiende la clase Polynomio o pol.\n",
        "2. Reconcoer la libreria Numphy, number, Math\n",
        "3. Reconozca cada método\n",
        "4. Reconozca la TAD\n",
        "5. Reconocer el formateo de la salida (s)\n",
        "6. Estudie el método Sumar\n",
        "7. Construya el metodo restar Polinomios\n",
        "8. Pruebe\n"
      ],
      "metadata": {
        "id": "h3zlRogXLkDt"
      }
    },
    {
      "cell_type": "markdown",
      "source": [
        "# Lisas doblemente Ligadas\n"
      ],
      "metadata": {
        "id": "GynzGlxZHVE9"
      }
    },
    {
      "cell_type": "markdown",
      "source": [],
      "metadata": {
        "id": "I65B7owYH0hZ"
      }
    },
    {
      "cell_type": "code",
      "source": [
        "from IPython.display import Math\n",
        "import numpy as np\n",
        "import numbers\n",
        "\n",
        "class Pol:\n",
        "\n",
        "    def __init__(self, elements=[]):\n",
        "        self.elements = list(elements)\n",
        "\n",
        "    def isEmpty(self):\n",
        "        return len(self.elements)==0\n",
        "\n",
        "    def add_term(self, coef, exp):\n",
        "        assert (isinstance(coef, numbers.Real) or isinstance(coef,numbers.Integral)) and isinstance(exp, numbers.Integral), \\\n",
        "                \"coef/exp must be float/int\"\n",
        "        self.elements.append((coef,exp))\n",
        "        return self\n",
        "\n",
        "    def subtract(self, q):\n",
        "        r = self.__class__()\n",
        "        for c, e in self.elements:\n",
        "            found = False\n",
        "            for c2, e2 in q.elements:\n",
        "                if e == e2:\n",
        "                    r.add_term(c - c2, e)\n",
        "                    found = True\n",
        "                    break\n",
        "            if not found:\n",
        "                r.add_term(c, e)\n",
        "        for c2, e2 in q.elements:\n",
        "            found = False\n",
        "            for c, e in self.elements:\n",
        "                if e == e2:\n",
        "                    found = True\n",
        "                    break\n",
        "            if not found:\n",
        "                r.add_term(-c2, e2)\n",
        "        return r\n",
        "\n",
        "    def show(self):\n",
        "        s = \"+\".join([\"%s^{%s}\"%(str(c) if e==0 else str(c)+\"x\" if c!=1 else \"x\", str(e) if e not in [0,1] else \"\") for c,e in self.elements if c!=0])\n",
        "        s = s.replace(\"+-\", \"-\")\n",
        "        return Math(s)\n"
      ],
      "metadata": {
        "id": "ZKUOrJBfkYxq"
      },
      "execution_count": null,
      "outputs": []
    },
    {
      "cell_type": "code",
      "source": [
        "p = Pol().add_term(3,5).add_term(4,2).add_term(3,0).add_term(5,10)\n",
        "print(p.elements)\n",
        "p.show()"
      ],
      "metadata": {
        "id": "qmUad1PUlOpn",
        "outputId": "c4009c17-d69a-4e8d-816f-518d79873241",
        "colab": {
          "base_uri": "https://localhost:8080/",
          "height": 56
        }
      },
      "execution_count": null,
      "outputs": [
        {
          "output_type": "stream",
          "name": "stdout",
          "text": [
            "[(3, 5), (4, 2), (3, 0), (5, 10)]\n"
          ]
        },
        {
          "output_type": "execute_result",
          "data": {
            "text/plain": [
              "<IPython.core.display.Math object>"
            ],
            "text/latex": "$\\displaystyle 3x^{5}+4x^{2}+3^{}+5x^{10}$"
          },
          "metadata": {},
          "execution_count": 18
        }
      ]
    },
    {
      "cell_type": "code",
      "source": [
        "\n",
        "# Crear una instancia de la clase Pol y agregar términos\n",
        "r1 = Pol().add_term(3, 5).add_term(4, 2)\n",
        "print(r1.elements)\n",
        "r1.show()\n",
        "\n",
        "# Crear otra instancia de la clase Pol y agregar términos\n",
        "r2 = Pol().add_term(-8, 5).add_term(4, 2)\n",
        "print(r2.elements)\n",
        "r2.show()\n",
        "\n",
        "# Realizar la operación de resta (subtract) de r1 por r2 y mostrar el resultado\n",
        "r3 = r1.subtract(r2)  # Llamar al método subtract en r1\n",
        "r3.show()\n"
      ],
      "metadata": {
        "id": "7TWstKXklf8e",
        "outputId": "db76fff6-dab9-4b81-92dc-f874f1bca9e3",
        "colab": {
          "base_uri": "https://localhost:8080/",
          "height": 73
        }
      },
      "execution_count": null,
      "outputs": [
        {
          "output_type": "stream",
          "name": "stdout",
          "text": [
            "[(3, 5), (4, 2)]\n",
            "[(-8, 5), (4, 2)]\n"
          ]
        },
        {
          "output_type": "execute_result",
          "data": {
            "text/plain": [
              "<IPython.core.display.Math object>"
            ],
            "text/latex": "$\\displaystyle 11x^{5}$"
          },
          "metadata": {},
          "execution_count": 23
        }
      ]
    },
    {
      "cell_type": "markdown",
      "source": [
        "2-"
      ],
      "metadata": {
        "id": "r316DLeCtkm8"
      }
    },
    {
      "cell_type": "code",
      "source": [
        "from IPython.display import Math  # Importar Math para notación matemática\n",
        "import numpy as np\n",
        "import numbers\n",
        "\n",
        "class Pol:\n",
        "    def __init__(self):\n",
        "        self.coefs = []\n",
        "        self.exps = []\n",
        "\n",
        "    def add_term(self, coef, exp):\n",
        "        assert (isinstance(coef, numbers.Real) or isinstance(coef, numbers.Integral)) and isinstance(exp, numbers.Integral), \\\n",
        "            \"coef/exp must be float/int\"\n",
        "\n",
        "        k = np.searchsorted(self.exps, exp)\n",
        "\n",
        "        if k >= len(self.exps):\n",
        "            self.coefs.append(coef)\n",
        "            self.exps.append(exp)\n",
        "        elif self.exps[k] == exp:\n",
        "            self.coefs[k] += coef\n",
        "        else:\n",
        "            self.coefs.insert(k, coef)\n",
        "            self.exps.insert(k, exp)\n",
        "\n",
        "    def sum(self, q):                   #Clase suma para polinomio\n",
        "        r = self.__class__()\n",
        "        for c,e in self.elements+q.elements:\n",
        "            r.add_term(c,e)\n",
        "        return r\n",
        "\n",
        "    def show(self):\n",
        "        terms = []\n",
        "        for coef, exp in zip(self.coefs, self.exps):\n",
        "            term = f\"{coef}\" if exp == 0 else f\"{coef}x\" if coef != 1 else \"x\"\n",
        "            if exp != 0 and exp != 1:\n",
        "                term += f\"^{exp}\"\n",
        "            terms.append(term)\n",
        "        polynomial = \" + \".join(terms)\n",
        "        return Math(polynomial)  # Utilizar Math para notación matemática\n",
        "\n",
        "\n"
      ],
      "metadata": {
        "id": "pih5GDIuw4zC"
      },
      "execution_count": null,
      "outputs": []
    },
    {
      "cell_type": "code",
      "source": [
        "# Ejemplo de uso:\n",
        "p = Pol()\n",
        "p.add_term(3, 5)\n",
        "p.add_term(4, 2)\n",
        "p.add_term(5, 1)\n",
        "p.add_term(1, 0)\n",
        "p.show()"
      ],
      "metadata": {
        "id": "TEUgwAs_4-GV",
        "outputId": "65735e47-efae-4962-b9f3-e07ed9d5ede9",
        "colab": {
          "base_uri": "https://localhost:8080/",
          "height": 39
        }
      },
      "execution_count": null,
      "outputs": [
        {
          "output_type": "execute_result",
          "data": {
            "text/plain": [
              "<IPython.core.display.Math object>"
            ],
            "text/latex": "$\\displaystyle 1 + 5x + 4x^2 + 3x^5$"
          },
          "metadata": {},
          "execution_count": 37
        }
      ]
    },
    {
      "cell_type": "markdown",
      "source": [
        "1-"
      ],
      "metadata": {
        "id": "TliTcQabt6Z-"
      }
    },
    {
      "cell_type": "code",
      "source": [
        "class Pol:\n",
        "    def __init__(self):\n",
        "        self.coefs = []\n",
        "        self.exps = []\n",
        "\n",
        "    def add_term(self, coef, exp):\n",
        "        assert (isinstance(coef, numbers.Real) or isinstance(coef, numbers.Integral)) and isinstance(exp, numbers.Integral), \\\n",
        "            \"coef/exp must be float/int\"\n",
        "\n",
        "        k = np.searchsorted(self.exps, exp)\n",
        "\n",
        "        if k >= len(self.exps):\n",
        "            self.coefs.append(coef)\n",
        "            self.exps.append(exp)\n",
        "        elif self.exps[k] == exp:\n",
        "            self.coefs[k] += coef\n",
        "        else:\n",
        "            self.coefs.insert(k, coef)\n",
        "            self.exps.insert(k, exp)\n",
        "\n",
        "    def add(self, q):\n",
        "        result = Pol()\n",
        "        i, j = 0, 0\n",
        "\n",
        "        while i < len(self.exps) and j < len(q.exps):\n",
        "            exp1, exp2 = self.exps[i], q.exps[j]\n",
        "\n",
        "            if exp1 == exp2:\n",
        "                coef = self.coefs[i] + q.coefs[j]\n",
        "                if coef != 0:\n",
        "                    result.add_term(coef, exp1)\n",
        "                i += 1\n",
        "                j += 1\n",
        "            elif exp1 < exp2:\n",
        "                result.add_term(self.coefs[i], exp1)\n",
        "                i += 1\n",
        "            else:\n",
        "                result.add_term(q.coefs[j], exp2)\n",
        "                j += 1\n",
        "\n",
        "        while i < len(self.exps):\n",
        "            result.add_term(self.coefs[i], self.exps[i])\n",
        "            i += 1\n",
        "\n",
        "        while j < len(q.exps):\n",
        "            result.add_term(q.coefs[j], q.exps[j])\n",
        "            j += 1\n",
        "\n",
        "        return result\n",
        "\n",
        "    def show(self):\n",
        "        terms = []\n",
        "        for coef, exp in zip(self.coefs, self.exps):\n",
        "            term = f\"{coef}\" if exp == 0 else f\"{coef}x\" if coef != 1 else \"x\"\n",
        "            if exp != 0 and exp != 1:\n",
        "                term += f\"^{exp}\"\n",
        "            terms.append(term)\n",
        "        polynomial = \" + \".join(terms)\n",
        "        return Math(polynomial)\n"
      ],
      "metadata": {
        "id": "D3vMAor4392A"
      },
      "execution_count": null,
      "outputs": []
    },
    {
      "cell_type": "code",
      "source": [
        "# Crear instancias de la clase Pol y agregar términos\n",
        "p = Pol()\n",
        "p.add_term(3, 5)\n",
        "p.add_term(4, 2)\n",
        "p.add_term(5, 1)\n",
        "p.add_term(1, 0)\n",
        "\n",
        "q = Pol()\n",
        "q.add_term(2, 4)\n",
        "q.add_term(3, 3)\n",
        "q.add_term(1, 1)\n",
        "\n",
        "# Realizar la suma de los dos polinomios (p + q)\n",
        "resultado = p.add(q)\n",
        "print(\"Resultado de la suma (p + q):\")\n",
        "resultado.show()\n"
      ],
      "metadata": {
        "id": "1JFl2vV15sDc",
        "outputId": "1ffa9e00-abea-4207-eac4-0a563b860032",
        "colab": {
          "base_uri": "https://localhost:8080/",
          "height": 56
        }
      },
      "execution_count": null,
      "outputs": [
        {
          "output_type": "stream",
          "name": "stdout",
          "text": [
            "Resultado de la suma (p + q):\n"
          ]
        },
        {
          "output_type": "execute_result",
          "data": {
            "text/plain": [
              "<IPython.core.display.Math object>"
            ],
            "text/latex": "$\\displaystyle 1 + 6x + 4x^2 + 3x^3 + 2x^4 + 3x^5$"
          },
          "metadata": {},
          "execution_count": 42
        }
      ]
    },
    {
      "cell_type": "code",
      "source": [
        "import numbers\n",
        "\n",
        "class Pol:\n",
        "    def __init__(self):\n",
        "        self.coefs = []  # Lista de coeficientes\n",
        "\n",
        "    def add_term(self, coef, exp):\n",
        "        assert (isinstance(coef, numbers.Real) or isinstance(coef, numbers.Integral)) and isinstance(exp, numbers.Integral), \\\n",
        "            \"coef/exp must be float/int\"\n",
        "\n",
        "        # Calcular el máximo exponente actual\n",
        "        max_exp = len(self.coefs) - 1 if self.coefs else -1\n",
        "\n",
        "        # Añadir ceros intermedios si es necesario\n",
        "        if exp > max_exp:\n",
        "            self.coefs.extend([0] * (exp - max_exp - 1))\n",
        "\n",
        "        # Añadir el coeficiente en la posición correspondiente\n",
        "        if exp <= max_exp:\n",
        "            self.coefs[exp] += coef  # Sumar al coeficiente existente\n",
        "        else:\n",
        "            self.coefs.append(coef)  # Establecer el coeficiente en la posición\n",
        "\n",
        "    def show(self):\n",
        "        terms = []\n",
        "        for exp, coef in enumerate(self.coefs):\n",
        "            term = f\"{coef}\" if coef != 0 else \"1\" if exp == 0 else \"\"  # Agregar \"1\" si el coeficiente es 1 y el exponente es 0\n",
        "            if exp != 0:\n",
        "                term += f\"x^{exp}\"  # Agregar el exponente si no es 0\n",
        "            terms.append(term)\n",
        "        polynomial = \" + \".join(terms)\n",
        "        return polynomial\n",
        "\n",
        "# Ejemplo de uso:\n",
        "p = Pol()\n",
        "p.add_term(2, 0)  # Añadir término 2\n",
        "p.add_term(3, 2)  # Añadir término 3x^2\n",
        "p.add_term(6, 5)  # Añadir término 6x^5\n",
        "p.add_term(3, 5)  # Añadir término 3x^5\n",
        "p.add_term(13, 1)  # Añadir término 13x^1\n",
        "\n",
        "# Mostrar el polinomio con ceros intermedios\n",
        "print(\"Polinomio con ceros intermedios:\")\n",
        "print(p.coefs)\n",
        "\n",
        "# Mostrar el polinomio en notación matemática\n",
        "print(\"\\nPolinomio en notación matemática:\")\n",
        "display(Math(p.show()))\n",
        "\n"
      ],
      "metadata": {
        "colab": {
          "base_uri": "https://localhost:8080/",
          "height": 108
        },
        "id": "YY5tRpk7bK4z",
        "outputId": "c665b06a-677e-4fe9-b698-31cc76e7992a"
      },
      "execution_count": 19,
      "outputs": [
        {
          "output_type": "stream",
          "name": "stdout",
          "text": [
            "Polinomio con ceros intermedios:\n",
            "[2, 13, 3, 0, 0, 9]\n",
            "\n",
            "Polinomio en notación matemática:\n"
          ]
        },
        {
          "output_type": "display_data",
          "data": {
            "text/plain": [
              "<IPython.core.display.Math object>"
            ],
            "text/latex": "$\\displaystyle 2 + 13x^1 + 3x^2 + x^3 + x^4 + 9x^5$"
          },
          "metadata": {}
        }
      ]
    },
    {
      "cell_type": "markdown",
      "source": [
        "2-"
      ],
      "metadata": {
        "id": "66wzKq88tfNE"
      }
    },
    {
      "cell_type": "code",
      "source": [
        "from IPython.display import Math\n",
        "import numpy as np\n",
        "import numbers\n",
        "\n",
        "class Pol:\n",
        "\n",
        "    def __init__(self, elements=[]):\n",
        "        self.elements = list(elements)\n",
        "\n",
        "    def isEmpty(self):\n",
        "        return len(self.elements)==0\n",
        "\n",
        "    def add_term(self, coef, exp):\n",
        "        assert (isinstance(coef, numbers.Real) or isinstance(coef,numbers.Integral)) and isinstance(exp, numbers.Integral), \\\n",
        "                \"coef/exp must be float/int\"\n",
        "        self.elements.append((coef,exp))\n",
        "        return self\n",
        "\n",
        "    def multiply(self, q):\n",
        "        r = Pol()\n",
        "        for ci, ei in self.elements:\n",
        "            for cj, ej in q.elements:\n",
        "                r.add_term(ci * cj, ei + ej)\n",
        "        return r\n",
        "\n",
        "    def show(self):\n",
        "        s = \"+\".join([\"%s^{%s}\"%(str(c) if e==0 else str(c)+\"x\" if c!=1 else \"x\", str(e) if e not in [0,1] else \"\") for c,e in self.elements if c!=0])\n",
        "        s = s.replace(\"+-\", \"-\")\n",
        "        return Math(s)\n"
      ],
      "metadata": {
        "id": "QMy0w3rFkdIe"
      },
      "execution_count": 30,
      "outputs": []
    },
    {
      "cell_type": "markdown",
      "source": [
        "3-"
      ],
      "metadata": {
        "id": "Uv4wpnFRtcfo"
      }
    },
    {
      "cell_type": "code",
      "source": [
        "from IPython.display import Math\n",
        "import numpy as np\n",
        "import numbers\n",
        "\n",
        "class Pol:\n",
        "\n",
        "    def __init__(self, elements=[]):\n",
        "        self.elements = list(elements)\n",
        "\n",
        "    def isEmpty(self):\n",
        "        return len(self.elements)==0\n",
        "\n",
        "    def add_term(self, coef, exp):\n",
        "        assert (isinstance(coef, numbers.Real) or isinstance(coef,numbers.Integral)) and isinstance(exp, numbers.Integral), \\\n",
        "                \"coef/exp must be float/int\"\n",
        "        self.elements.append((coef,exp))\n",
        "        return self\n",
        "\n",
        "    def multiply(self, q):\n",
        "        r = Pol()\n",
        "        for ci, ei in self.elements:\n",
        "            for cj, ej in q.elements:\n",
        "                r.add_term(ci * cj, ei + ej)\n",
        "        return r\n",
        "\n",
        "    def show(self):\n",
        "        s = \"+\".join([\"%s^{%s}\"%(str(c) if e==0 else str(c)+\"x\" if c!=1 else \"x\", str(e) if e not in [0,1] else \"\") for c,e in self.elements if c!=0])\n",
        "        s = s.replace(\"+-\", \"-\")\n",
        "        return Math(s)\n"
      ],
      "metadata": {
        "id": "pZ4FRQtYltzu"
      },
      "execution_count": 40,
      "outputs": []
    },
    {
      "cell_type": "markdown",
      "source": [
        "4-"
      ],
      "metadata": {
        "id": "EPhY-vOFtaLM"
      }
    },
    {
      "cell_type": "code",
      "source": [
        "from IPython.display import Math\n",
        "import numpy as np\n",
        "import numbers\n",
        "\n",
        "class Pol:\n",
        "\n",
        "    def __init__(self, elements=[]):\n",
        "        self.elements = list(elements)\n",
        "\n",
        "    def isEmpty(self):\n",
        "        return len(self.elements)==0\n",
        "\n",
        "    def add_term(self, coef, exp):\n",
        "        assert (isinstance(coef, numbers.Real) or isinstance(coef,numbers.Integral)) and isinstance(exp, numbers.Integral), \\\n",
        "                \"coef/exp must be float/int\"\n",
        "        self.elements.append((coef,exp))\n",
        "        return self\n",
        "\n",
        "    def multiply(self, q):\n",
        "        r = Pol()\n",
        "        for ci, ei in self.elements:\n",
        "            for cj, ej in q.elements:\n",
        "                r.add_term(ci * cj, ei + ej)\n",
        "        return r\n",
        "\n",
        "    def show(self):\n",
        "        s = \"+\".join([\"%s^{%s}\"%(str(c) if e==0 else str(c)+\"x\" if c!=1 else \"x\", str(e) if e not in [0,1] else \"\") for c,e in self.elements if c!=0])\n",
        "        s = s.replace(\"+-\", \"-\")\n",
        "        return Math(s)\n"
      ],
      "metadata": {
        "id": "qOSKmURzqcYP"
      },
      "execution_count": 43,
      "outputs": []
    },
    {
      "cell_type": "code",
      "source": [
        "# Crear instancias de la clase Pol\n",
        "p1 = Pol([(1, 2), (3, 1), (4, 0)])  # representa al polinomio x^2 + 3x + 4\n",
        "p2 = Pol([(1, 1), (2, 0)])          # representa al polinomio x + 2\n",
        "\n",
        "# Multiplicar los polinomios\n",
        "p3 = p1.multiply(p2)\n",
        "\n",
        "# Mostrar el resultado\n",
        "display(p1.show())\n",
        "display(p2.show())\n",
        "display('Resultado de multplicaion P1 y P2')\n",
        "display(p3.show())\n"
      ],
      "metadata": {
        "colab": {
          "base_uri": "https://localhost:8080/",
          "height": 101
        },
        "id": "4sFEHjG9qd44",
        "outputId": "b0a30fc7-67c9-4203-d400-76b3e0413302"
      },
      "execution_count": 46,
      "outputs": [
        {
          "output_type": "display_data",
          "data": {
            "text/plain": [
              "<IPython.core.display.Math object>"
            ],
            "text/latex": "$\\displaystyle x^{2}+3x^{}+4^{}$"
          },
          "metadata": {}
        },
        {
          "output_type": "display_data",
          "data": {
            "text/plain": [
              "<IPython.core.display.Math object>"
            ],
            "text/latex": "$\\displaystyle x^{}+2^{}$"
          },
          "metadata": {}
        },
        {
          "output_type": "display_data",
          "data": {
            "text/plain": [
              "'Resultado de multplicaion P1 y P2'"
            ],
            "application/vnd.google.colaboratory.intrinsic+json": {
              "type": "string"
            }
          },
          "metadata": {}
        },
        {
          "output_type": "display_data",
          "data": {
            "text/plain": [
              "<IPython.core.display.Math object>"
            ],
            "text/latex": "$\\displaystyle x^{3}+2x^{2}+3x^{2}+6x^{}+4x^{}+8^{}$"
          },
          "metadata": {}
        }
      ]
    },
    {
      "cell_type": "markdown",
      "source": [
        "5-"
      ],
      "metadata": {
        "id": "Z77lyEtntW0B"
      }
    },
    {
      "cell_type": "code",
      "source": [
        "class Node:\n",
        "    def __init__(self, data=None):\n",
        "        self.data = data\n",
        "        self.next = None\n",
        "\n",
        "class LinkedList:\n",
        "    def __init__(self):\n",
        "        self.head = None\n",
        "\n",
        "    def append(self, data):\n",
        "        if not self.head:\n",
        "            self.head = Node(data)\n",
        "        else:\n",
        "            curr = self.head\n",
        "            while curr.next:\n",
        "                curr = curr.next\n",
        "            curr.next = Node(data)\n",
        "\n",
        "    def selection_sort(self):\n",
        "        if not self.head or not self.head.next:\n",
        "            return\n",
        "\n",
        "        curr1, prev1 = self.head, None\n",
        "        while curr1:\n",
        "            min_val, min_node, min_prev = curr1.data, curr1, prev1\n",
        "            curr2, prev2 = curr1.next, curr1\n",
        "            while curr2:\n",
        "                if curr2.data < min_val:\n",
        "                    min_val = curr2.data\n",
        "                    min_node, min_prev = curr2, prev2\n",
        "                prev2 = curr2\n",
        "                curr2 = curr2.next\n",
        "\n",
        "            if min_node != curr1:\n",
        "                next_node = min_node.next\n",
        "                if prev1:\n",
        "                    prev1.next = min_node\n",
        "                else:\n",
        "                    self.head = min_node\n",
        "                if min_prev:\n",
        "                    min_prev.next = curr1\n",
        "                else:\n",
        "                    self.head = curr1\n",
        "                min_node.next = curr1.next\n",
        "                curr1.next = next_node\n",
        "\n",
        "            prev1, curr1 = min_node, min_node.next\n",
        "\n",
        "    def print_list(self):\n",
        "        node = self.head\n",
        "        while node is not None:\n",
        "            print(node.data, end=\" \")\n",
        "            node = node.next\n",
        "        print()\n"
      ],
      "metadata": {
        "id": "bccIoRdurO6u"
      },
      "execution_count": 47,
      "outputs": []
    },
    {
      "cell_type": "code",
      "source": [
        "# Crear una lista ligada\n",
        "linked_list = LinkedList()\n",
        "\n",
        "# Añadir elementos a la lista\n",
        "linked_list.append(4)\n",
        "linked_list.append(3)\n",
        "linked_list.append(1)\n",
        "linked_list.append(5)\n",
        "linked_list.append(2)\n",
        "\n",
        "# Mostrar la lista antes de ordenar\n",
        "print(\"Lista antes de ordenar:\")\n",
        "linked_list.print_list()\n",
        "\n",
        "# Ordenar la lista\n",
        "linked_list.selection_sort()\n",
        "\n",
        "# Mostrar la lista después de ordenar\n",
        "print(\"Lista después de ordenar:\")\n",
        "linked_list.print_list()\n"
      ],
      "metadata": {
        "colab": {
          "base_uri": "https://localhost:8080/"
        },
        "id": "qqNW-onVrwzR",
        "outputId": "05e8ff9e-449f-48a6-cb5c-d6bdf1e7605b"
      },
      "execution_count": 48,
      "outputs": [
        {
          "output_type": "stream",
          "name": "stdout",
          "text": [
            "Lista antes de ordenar:\n",
            "4 3 1 5 2 \n",
            "Lista después de ordenar:\n",
            "1 2 3 4 5 \n"
          ]
        }
      ]
    },
    {
      "cell_type": "code",
      "source": [],
      "metadata": {
        "id": "g2PPTl_tr793"
      },
      "execution_count": null,
      "outputs": []
    },
    {
      "cell_type": "markdown",
      "source": [
        "6 -"
      ],
      "metadata": {
        "id": "R46marxWtQOi"
      }
    },
    {
      "cell_type": "code",
      "source": [
        "def binary_search(linked_list, target):\n",
        "    # Convertir la lista ligada a un array\n",
        "    array = []\n",
        "    node = linked_list.head\n",
        "    while node is not None:\n",
        "        array.append(node.data)\n",
        "        node = node.next\n",
        "\n",
        "    # Búsqueda binaria en el array\n",
        "    low = 0\n",
        "    high = len(array) - 1\n",
        "    while low <= high:\n",
        "        mid = (low + high) // 2\n",
        "        if array[mid] == target:\n",
        "            return True\n",
        "        elif array[mid] < target:\n",
        "            low = mid + 1\n",
        "        else:\n",
        "            high = mid - 1\n",
        "\n",
        "    return False\n"
      ],
      "metadata": {
        "id": "532vxI6psXic"
      },
      "execution_count": 49,
      "outputs": []
    },
    {
      "cell_type": "code",
      "source": [
        "# Crear una lista ligada y añadir elementos\n",
        "linked_list = LinkedList()\n",
        "linked_list.append(4)\n",
        "linked_list.append(3)\n",
        "linked_list.append(1)\n",
        "linked_list.append(5)\n",
        "linked_list.append(2)\n",
        "\n",
        "# Ordenar la lista\n",
        "linked_list.selection_sort()\n",
        "\n",
        "# Buscar un elemento en la lista\n",
        "target = 3\n",
        "found = binary_search(linked_list, target)\n",
        "if found:\n",
        "    print(f\"El elemento {target} se encontró en la lista.\")\n",
        "else:\n",
        "    print(f\"El elemento {target} no se encontró en la lista.\")\n"
      ],
      "metadata": {
        "colab": {
          "base_uri": "https://localhost:8080/"
        },
        "id": "CrUWSVFFskRz",
        "outputId": "cca0bb1a-4074-47ca-9b72-464a8e29e4f6"
      },
      "execution_count": 50,
      "outputs": [
        {
          "output_type": "stream",
          "name": "stdout",
          "text": [
            "El elemento 3 se encontró en la lista.\n"
          ]
        }
      ]
    },
    {
      "cell_type": "markdown",
      "source": [],
      "metadata": {
        "id": "NhTFckbRsp3W"
      }
    }
  ]
}